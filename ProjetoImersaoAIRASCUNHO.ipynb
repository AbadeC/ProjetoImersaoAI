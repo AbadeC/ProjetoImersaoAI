{
  "nbformat": 4,
  "nbformat_minor": 0,
  "metadata": {
    "colab": {
      "provenance": [],
      "authorship_tag": "ABX9TyP0TP8jKQjqvhWieKLQOaKp",
      "include_colab_link": true
    },
    "kernelspec": {
      "name": "python3",
      "display_name": "Python 3"
    },
    "language_info": {
      "name": "python"
    }
  },
  "cells": [
    {
      "cell_type": "markdown",
      "metadata": {
        "id": "view-in-github",
        "colab_type": "text"
      },
      "source": [
        "<a href=\"https://colab.research.google.com/github/AbadeC/ProjetoImersaoAI/blob/main/ProjetoImersaoAIRASCUNHO.ipynb\" target=\"_parent\"><img src=\"https://colab.research.google.com/assets/colab-badge.svg\" alt=\"Open In Colab\"/></a>"
      ]
    },
    {
      "cell_type": "markdown",
      "source": [
        "Iniciando com a instalação ou atualização do SDK do Google."
      ],
      "metadata": {
        "id": "KLbXwRVwfRCW"
      }
    },
    {
      "cell_type": "code",
      "execution_count": null,
      "metadata": {
        "id": "ZgKWCqWSZW-z"
      },
      "outputs": [],
      "source": [
        "!pip install -q -U google-generativeai"
      ]
    },
    {
      "cell_type": "code",
      "source": [],
      "metadata": {
        "id": "FRPbl5UDrOLv"
      },
      "execution_count": null,
      "outputs": []
    },
    {
      "cell_type": "code",
      "source": [
        "# Import the Python SDK\n",
        "import google.generativeai as genai\n",
        "# Used to securely store your API key\n",
        "from google.colab import userdata\n",
        "GOOGLE_API_KEY=userdata.get('SECRET_KEY')\n",
        "genai.configure(api_key=GOOGLE_API_KEY)"
      ],
      "metadata": {
        "id": "n7OfZoXXfyL8"
      },
      "execution_count": null,
      "outputs": []
    },
    {
      "cell_type": "markdown",
      "source": [
        "Listar os modelos disponíveis:"
      ],
      "metadata": {
        "id": "Vr2P2XJ0f019"
      }
    },
    {
      "cell_type": "code",
      "source": [
        "for modelo in genai.list_models():\n",
        "  if 'generateContent' in modelo.supported_generation_methods:\n",
        "    print(modelo.name)"
      ],
      "metadata": {
        "colab": {
          "base_uri": "https://localhost:8080/",
          "height": 138
        },
        "id": "8DWrcLdFfzCn",
        "outputId": "d2a2e22c-c138-4bb6-971d-23728c869d9b"
      },
      "execution_count": null,
      "outputs": [
        {
          "output_type": "stream",
          "name": "stdout",
          "text": [
            "models/gemini-1.0-pro\n",
            "models/gemini-1.0-pro-001\n",
            "models/gemini-1.0-pro-latest\n",
            "models/gemini-1.0-pro-vision-latest\n",
            "models/gemini-1.5-pro-latest\n",
            "models/gemini-pro\n",
            "models/gemini-pro-vision\n"
          ]
        }
      ]
    },
    {
      "cell_type": "markdown",
      "source": [
        "Parametrizando."
      ],
      "metadata": {
        "id": "2UPQMVPCjhoo"
      }
    },
    {
      "cell_type": "code",
      "source": [
        "Geracao_Config = {\n",
        "    'candidate_count': 1,\n",
        "    'temperature': 0.5,\n",
        "}"
      ],
      "metadata": {
        "id": "3No0a35GhMRB"
      },
      "execution_count": null,
      "outputs": []
    },
    {
      "cell_type": "code",
      "source": [
        "Seguranca_Config = {\n",
        "    'HARASSMENT': 'BLOCK_NONE',\n",
        "    'HATE': 'BLOCK_NONE',\n",
        "    'SEXUAL': 'BLOCK_NONE',\n",
        "    'DANGEROUS': 'BLOCK_NONE',\n",
        "}"
      ],
      "metadata": {
        "id": "CvUbs4naiyT2"
      },
      "execution_count": null,
      "outputs": []
    },
    {
      "cell_type": "markdown",
      "source": [
        "Inicializando o modelo"
      ],
      "metadata": {
        "id": "pWKW1Z67jti9"
      }
    },
    {
      "cell_type": "code",
      "source": [
        "model = genai.GenerativeModel (model_name = 'gemini-1.0-pro',\n",
        "                           generation_config = Geracao_Config,\n",
        "                           safety_settings = Seguranca_Config)\n"
      ],
      "metadata": {
        "id": "-OI0cA8tjvzq"
      },
      "execution_count": null,
      "outputs": []
    },
    {
      "cell_type": "code",
      "execution_count": null,
      "metadata": {
        "id": "j51mcrLD4Y2W",
        "outputId": "02a18f43-a212-4329-d971-18dc39bc902c",
        "colab": {
          "base_uri": "https://localhost:8080/",
          "height": 850
        }
      },
      "outputs": [
        {
          "output_type": "stream",
          "name": "stdout",
          "text": [
            "**Estratégia de Vendas para Energia Limpa para Empresas**\n",
            "\n",
            "**1. Identifique os Segmentos de Mercado Alvo:**\n",
            "* Empresas com metas de sustentabilidade\n",
            "* Indústrias com alta demanda de energia\n",
            "* Empresas com grandes pegadas de carbono\n",
            "\n",
            "**2. Destaque os Benefícios da Energia Limpa:**\n",
            "* Redução de custos operacionais\n",
            "* Melhoria da imagem da marca\n",
            "* Conformidade com regulamentações ambientais\n",
            "* Acesso a incentivos governamentais\n",
            "\n",
            "**3. Forneça Soluções Personalizadas:**\n",
            "* Avalie as necessidades específicas de energia de cada empresa\n",
            "* Ofereça uma gama de opções de energia limpa, como solar, eólica e hidrelétrica\n",
            "* Desenvolva planos de implementação personalizados\n",
            "\n",
            "**4. Construa Relacionamentos Sólidos:**\n",
            "* Conheça os tomadores de decisão e entenda seus objetivos\n",
            "* Forneça informações valiosas e educação sobre energia limpa\n",
            "* Estabeleça confiança por meio de transparência e comunicação aberta\n",
            "\n",
            "**5. Ofereça Opções de Financiamento Flexíveis:**\n",
            "* Explore diferentes modelos de financiamento, como leasing, PPA (Power Purchase Agreements) e empréstimos\n",
            "* Ofereça opções de pagamento escalonadas para acomodar orçamentos variados\n",
            "\n",
            "**6. Forneça Suporte Contínuo:**\n",
            "* Monitore o desempenho do sistema de energia limpa\n",
            "* Forneça manutenção e reparos regulares\n",
            "* Ofereça suporte técnico e orientação contínuos\n",
            "\n",
            "**7. Utilize Marketing Direto:**\n",
            "* Crie conteúdo valioso, como white papers e estudos de caso\n",
            "* Participe de feiras e eventos do setor\n",
            "* Use plataformas de mídia social para promover seus serviços\n",
            "\n",
            "**8. Construa Parcerias Estratégicas:**\n",
            "* Faça parceria com consultores de sustentabilidade e empresas de engenharia\n",
            "* Colabore com organizações ambientais para construir credibilidade\n",
            "\n",
            "**9. Monitore e Ajuste:**\n",
            "* Acompanhe os resultados de vendas e o feedback do cliente\n",
            "* Ajuste sua estratégia conforme necessário para otimizar o desempenho\n",
            "\n",
            "**10. Destaque Estudos de Caso de Sucesso:**\n",
            "* Compartilhe histórias de sucesso de empresas que implementaram energia limpa\n",
            "* Quantifique os benefícios financeiros e ambientais alcançados\n"
          ]
        }
      ],
      "source": [
        "response = model.generate_content(\"Me dê sugestões de como posso vender energia limpa para empresas.\")\n",
        "print(response.text)"
      ]
    },
    {
      "cell_type": "code",
      "source": [
        "chat = model.start_chat(history=[])\n",
        "\n",
        "prompt = input('Escreva aqui o prompt: ')\n",
        "\n",
        "while prompt != \"fim\":\n",
        "  response = chat.send_message(prompt)\n",
        "  print(\"Minha resposta: \", response.text, '\\n\\n')\n",
        "  prompt = input('Seu prompt: ')"
      ],
      "metadata": {
        "colab": {
          "base_uri": "https://localhost:8080/",
          "height": 104
        },
        "id": "nTGw7Z8S9Jri",
        "outputId": "6ce637bd-344c-490e-e52f-a59b9682e4a3"
      },
      "execution_count": null,
      "outputs": [
        {
          "name": "stdout",
          "output_type": "stream",
          "text": [
            "Escreva aqui o prompt: Diga oi\n",
            "Minha resposta:  Oi! \n",
            "\n",
            "\n",
            "Seu prompt: fim\n"
          ]
        }
      ]
    },
    {
      "cell_type": "code",
      "execution_count": null,
      "metadata": {
        "id": "dAcbPBocgzeX",
        "colab": {
          "base_uri": "https://localhost:8080/",
          "height": 142
        },
        "outputId": "670e9cff-229b-4fda-eadb-78ae1567ff6a"
      },
      "outputs": [
        {
          "output_type": "display_data",
          "data": {
            "text/plain": [
              "<IPython.core.display.Markdown object>"
            ],
            "text/markdown": "> **Convidado**: Sou de Minas Gerais. Logo, sou o quê?"
          },
          "metadata": {}
        },
        {
          "output_type": "stream",
          "name": "stdout",
          "text": [
            "--------\n"
          ]
        },
        {
          "output_type": "display_data",
          "data": {
            "text/plain": [
              "<IPython.core.display.Markdown object>"
            ],
            "text/markdown": "> **Seu Amigo Chat**: Mineiro"
          },
          "metadata": {}
        },
        {
          "output_type": "stream",
          "name": "stdout",
          "text": [
            "--------\n"
          ]
        }
      ],
      "source": [
        "#Melhorando a visualização\n",
        "#Código disponível em https://ai.google.dev/tutorials/python_quickstart#import_packages\n",
        "import textwrap\n",
        "from IPython.display import display\n",
        "from IPython.display import Markdown\n",
        "\n",
        "def to_markdown(text):\n",
        "  text = text.replace('•', '  *')\n",
        "  text = text.replace('user', 'Convidado')  # Nova substituição\n",
        "  text = text.replace('model', 'Seu Amigo Chat')  # Nova substituição\n",
        "  return Markdown(textwrap.indent(text, '> ', predicate=lambda _: True))\n",
        "\n",
        "#Imprimindo o histórico\n",
        "for message in chat.history:\n",
        "  display(to_markdown(f'**{message.role}**: {message.parts[0].text}'))\n",
        "  print('--------')"
      ]
    },
    {
      "cell_type": "code",
      "source": [
        "print(\"Texto original\", end=\"\")\n",
        "for _ in range(len(\"original\")):\n",
        "    print(\"\\b\", end=\"\", flush=True)\n",
        "print(\" substituído\")"
      ],
      "metadata": {
        "colab": {
          "base_uri": "https://localhost:8080/"
        },
        "id": "Jjy2thWid_yE",
        "outputId": "05e6bd6f-9e48-4144-e9ca-6007c6659c84"
      },
      "execution_count": 5,
      "outputs": [
        {
          "output_type": "stream",
          "name": "stdout",
          "text": [
            "Texto original\b\b\b\b\b\b\b\b substituído\n"
          ]
        }
      ]
    },
    {
      "cell_type": "code",
      "source": [
        "#Parte 1\n",
        "chat = model.start_chat(history=[])\n",
        "import textwrap\n",
        "\n",
        "prompt = input('Comece escrevendo aqui: ')\n",
        "\n",
        "while prompt != \"fim\":\n",
        "  response = chat.send_message(prompt)\n",
        "  print(\"Minha resposta: \", response.text, '\\n')\n",
        "  prompt = input('Seu prompt: ')\n",
        "\n",
        "#Parte 2\n",
        "from IPython.display import display\n",
        "from IPython.display import Markdown\n",
        "\n",
        "def to_markdown(text):\n",
        "  text = text.replace('•', '  *')\n",
        "  text = text.replace('user', 'Convidado')\n",
        "  text = text.replace('model', 'Seu Amigo Chat')\n",
        "  return Markdown(textwrap.indent(text, '> ', predicate=lambda _: True))\n",
        "\n",
        "print('\\n','------------ Histórico da conversa -------------')\n",
        "for message in chat.history:\n",
        "  display(to_markdown(f'**{message.role}**: {message.parts[0].text}'))\n",
        "\n",
        "#Parte 3 - importar biblioteca de PDF\n",
        "import PyPDF2\n",
        "\n",
        "#Abrir PDF\n",
        "pdf_file = open(\"caminho/para/o/arquivo.pdf\", \"rb\")\n",
        "pdf_reader = PyPDF2.PdfFileReader(pdf_file)\n"
      ],
      "metadata": {
        "colab": {
          "base_uri": "https://localhost:8080/",
          "height": 1000
        },
        "id": "ZVeQIe4JNhuk",
        "outputId": "dc7272e4-c935-40ea-e5dc-0755d66517da"
      },
      "execution_count": null,
      "outputs": [
        {
          "output_type": "stream",
          "name": "stdout",
          "text": [
            "Comece escrevendo aqui: Olá. Estou construindo este chat em python. Como faço para solicitar um PDF para responder perguntas sobre ele?\n",
            "Minha resposta:  **Etapa 1: Importar as bibliotecas necessárias**\n",
            "\n",
            "```python\n",
            "import PyPDF2\n",
            "```\n",
            "\n",
            "**Etapa 2: Abrir o arquivo PDF**\n",
            "\n",
            "```python\n",
            "pdf_file = open(\"caminho/para/o/arquivo.pdf\", \"rb\")\n",
            "pdf_reader = PyPDF2.PdfFileReader(pdf_file)\n",
            "```\n",
            "\n",
            "**Etapa 3: Solicitar ao usuário a página do PDF**\n",
            "\n",
            "```python\n",
            "page_number = int(input(\"Qual página do PDF você deseja perguntar? \"))\n",
            "```\n",
            "\n",
            "**Etapa 4: Obter o texto da página especificada**\n",
            "\n",
            "```python\n",
            "page_object = pdf_reader.getPage(page_number - 1)\n",
            "page_text = page_object.extractText()\n",
            "```\n",
            "\n",
            "**Etapa 5: Responder às perguntas do usuário sobre o texto extraído**\n",
            "\n",
            "```python\n",
            "while True:\n",
            "    user_question = input(\"Faça uma pergunta sobre o texto do PDF: \")\n",
            "    if user_question == \"sair\":\n",
            "        break\n",
            "    \n",
            "    # Pesquise a pergunta do usuário no texto extraído\n",
            "    answer = search_answer(user_question, page_text)\n",
            "    \n",
            "    # Imprima a resposta\n",
            "    print(\"Resposta:\", answer)\n",
            "```\n",
            "\n",
            "**Função de pesquisa de resposta:**\n",
            "\n",
            "```python\n",
            "def search_answer(question, text):\n",
            "    # Use uma biblioteca de processamento de linguagem natural (por exemplo, spaCy) para analisar a pergunta do usuário\n",
            "    # e extrair palavras-chave\n",
            "    \n",
            "    # Pesquise no texto do PDF por palavras-chave e frases relevantes\n",
            "    \n",
            "    # Retorne a resposta mais relevante\n",
            "```\n",
            "\n",
            "**Etapa 6: Fechar o arquivo PDF**\n",
            "\n",
            "```python\n",
            "pdf_file.close()\n",
            "``` \n",
            "\n",
            "Seu prompt: fim\n",
            "\n",
            " ------------ Histórico da conversa -------------\n"
          ]
        },
        {
          "output_type": "display_data",
          "data": {
            "text/plain": [
              "<IPython.core.display.Markdown object>"
            ],
            "text/markdown": "> **Convidado**: Olá. Estou construindo este chat em python. Como faço para solicitar um PDF para responder perguntas sobre ele?"
          },
          "metadata": {}
        },
        {
          "output_type": "display_data",
          "data": {
            "text/plain": [
              "<IPython.core.display.Markdown object>"
            ],
            "text/markdown": "> **Seu Amigo Chat**: **Etapa 1: Importar as bibliotecas necessárias**\n> \n> ```python\n> import PyPDF2\n> ```\n> \n> **Etapa 2: Abrir o arquivo PDF**\n> \n> ```python\n> pdf_file = open(\"caminho/para/o/arquivo.pdf\", \"rb\")\n> pdf_reader = PyPDF2.PdfFileReader(pdf_file)\n> ```\n> \n> **Etapa 3: Solicitar ao usuário a página do PDF**\n> \n> ```python\n> page_number = int(input(\"Qual página do PDF você deseja perguntar? \"))\n> ```\n> \n> **Etapa 4: Obter o texto da página especificada**\n> \n> ```python\n> page_object = pdf_reader.getPage(page_number - 1)\n> page_text = page_object.extractText()\n> ```\n> \n> **Etapa 5: Responder às perguntas do usuário sobre o texto extraído**\n> \n> ```python\n> while True:\n>     Convidado_question = input(\"Faça uma pergunta sobre o texto do PDF: \")\n>     if Convidado_question == \"sair\":\n>         break\n>     \n>     # Pesquise a pergunta do usuário no texto extraído\n>     answer = search_answer(Convidado_question, page_text)\n>     \n>     # Imprima a resposta\n>     print(\"Resposta:\", answer)\n> ```\n> \n> **Função de pesquisa de resposta:**\n> \n> ```python\n> def search_answer(question, text):\n>     # Use uma biblioteca de processamento de linguagem natural (por exemplo, spaCy) para analisar a pergunta do usuário\n>     # e extrair palavras-chave\n>     \n>     # Pesquise no texto do PDF por palavras-chave e frases relevantes\n>     \n>     # Retorne a resposta mais relevante\n> ```\n> \n> **Etapa 6: Fechar o arquivo PDF**\n> \n> ```python\n> pdf_file.close()\n> ```"
          },
          "metadata": {}
        }
      ]
    },
    {
      "cell_type": "code",
      "source": [
        "pip install pypdf2 nltk"
      ],
      "metadata": {
        "colab": {
          "base_uri": "https://localhost:8080/"
        },
        "id": "2vU853Z1jHRA",
        "outputId": "32a3a7f8-bac4-4d4b-b8a6-68559eb6a8f9"
      },
      "execution_count": null,
      "outputs": [
        {
          "output_type": "stream",
          "name": "stdout",
          "text": [
            "Requirement already satisfied: pypdf2 in /usr/local/lib/python3.10/dist-packages (3.0.1)\n",
            "Requirement already satisfied: nltk in /usr/local/lib/python3.10/dist-packages (3.8.1)\n",
            "Requirement already satisfied: click in /usr/local/lib/python3.10/dist-packages (from nltk) (8.1.7)\n",
            "Requirement already satisfied: joblib in /usr/local/lib/python3.10/dist-packages (from nltk) (1.4.2)\n",
            "Requirement already satisfied: regex>=2021.8.3 in /usr/local/lib/python3.10/dist-packages (from nltk) (2023.12.25)\n",
            "Requirement already satisfied: tqdm in /usr/local/lib/python3.10/dist-packages (from nltk) (4.66.4)\n"
          ]
        }
      ]
    },
    {
      "cell_type": "code",
      "source": [
        "python -m nltk.downloader punkt stopwords"
      ],
      "metadata": {
        "colab": {
          "base_uri": "https://localhost:8080/",
          "height": 106
        },
        "id": "N8FRiegAkRWU",
        "outputId": "8f5cdee0-c005-48af-aff2-71311762ac24"
      },
      "execution_count": null,
      "outputs": [
        {
          "output_type": "error",
          "ename": "SyntaxError",
          "evalue": "invalid syntax (<ipython-input-70-504f774dac41>, line 1)",
          "traceback": [
            "\u001b[0;36m  File \u001b[0;32m\"<ipython-input-70-504f774dac41>\"\u001b[0;36m, line \u001b[0;32m1\u001b[0m\n\u001b[0;31m    python -m nltk.downloader punkt stopwords\u001b[0m\n\u001b[0m              ^\u001b[0m\n\u001b[0;31mSyntaxError\u001b[0m\u001b[0;31m:\u001b[0m invalid syntax\n"
          ]
        }
      ]
    },
    {
      "cell_type": "code",
      "source": [
        "import re\n",
        "import PyPDF2\n",
        "import nltk.downloader as downloader\n",
        "from nltk.tokenize import sent_tokenize\n",
        "from nltk.corpus import stopwords\n",
        "from nltk.stem import PorterStemmer\n",
        "\n",
        "def processar_texto(texto):\n",
        "    \"\"\"\n",
        "    Processa o texto extraído do PDF: tokenização, remoção de stopwords e stemming.\n",
        "    \"\"\"\n",
        "    palavras_irrelevantes = set(stopwords.words(\"portuguese\"))\n",
        "    stemmer = PorterStemmer()\n",
        "\n",
        "    sentencas = sent_tokenize(texto)\n",
        "    palavras = []\n",
        "    for sentenca in sentencas:\n",
        "        for palavra in re.findall(r\"\\w+\", sentenca):\n",
        "            palavra_limpa = palavra.lower()\n",
        "            if palavra_limpa not in palavras_irrelevantes:\n",
        "                palavra_stem = stemmer.stem(palavra_limpa)\n",
        "                palavras.append(palavra_stem)\n",
        "\n",
        "    return palavras\n",
        "\n",
        "def buscar_resposta(pergunta, lista_pdfs):\n",
        "    \"\"\"\n",
        "    Busca a resposta para a pergunta nos PDFs fornecidos.\n",
        "    \"\"\"\n",
        "    pergunta_processada = processar_texto(pergunta)\n",
        "\n",
        "    for nome_arquivo in lista_pdfs:\n",
        "        with open(nome_arquivo, \"rb\") as arquivo_pdf:\n",
        "            leitor_pdf = PyPDF2.PdfReader(arquivo_pdf)\n",
        "            for num_pagina in range(len(leitor_pdf.pages)):\n",
        "                pagina = leitor_pdf.getPage(num_pagina)\n",
        "                texto = pagina.extractText()\n",
        "                texto_processado = processar_texto(texto)\n",
        "\n",
        "                # Busca similaridade entre as palavras da pergunta e do texto\n",
        "                similaridade = len(set(pergunta_processada) & set(texto_processado))\n",
        "\n",
        "                if similaridade > 0:\n",
        "                    # Encontra a sentença mais relevante no texto\n",
        "                    sentencas = sent_tokenize(texto)\n",
        "                    sentenca_relevante = max(sentencas, key=lambda s: len(set(processar_texto(s)) & set(pergunta_processada)))\n",
        "                    return f\"Resposta encontrada no arquivo '{nome_arquivo}':\\n{sentenca_relevante}\"\n",
        "\n",
        "    return \"Desculpe, não encontrei a resposta para sua pergunta.\"\n",
        "\n",
        "def main():\n",
        "    \"\"\"\n",
        "    Função principal para interagir com o usuário.\n",
        "    \"\"\"\n",
        "    lista_pdfs = [\"/home/Documentos/FAQ de Energia.pdf\"]  # Lista dos arquivos PDF\n",
        "\n",
        "    while True:\n",
        "        pergunta = input(\"Digite sua pergunta (ou 'sair' para terminar): \")\n",
        "        if pergunta.lower() == \"sair\":\n",
        "            break\n",
        "\n",
        "        resposta = buscar_resposta(pergunta, lista_pdfs)\n",
        "        print(resposta)\n",
        "\n",
        "if __name__ == \"__main__\":\n",
        "    main()"
      ],
      "metadata": {
        "colab": {
          "base_uri": "https://localhost:8080/",
          "height": 1000
        },
        "id": "RNhtoD37ecP3",
        "outputId": "71f2efb9-85fa-4821-a7f8-b4aece33d43a"
      },
      "execution_count": null,
      "outputs": [
        {
          "name": "stdout",
          "output_type": "stream",
          "text": [
            "Digite sua pergunta (ou 'sair' para terminar): O que é GD Compartilhada\n"
          ]
        },
        {
          "output_type": "error",
          "ename": "LookupError",
          "evalue": "\n**********************************************************************\n  Resource \u001b[93mstopwords\u001b[0m not found.\n  Please use the NLTK Downloader to obtain the resource:\n\n  \u001b[31m>>> import nltk\n  >>> nltk.download('stopwords')\n  \u001b[0m\n  For more information see: https://www.nltk.org/data.html\n\n  Attempted to load \u001b[93mcorpora/stopwords\u001b[0m\n\n  Searched in:\n    - '/root/nltk_data'\n    - '/usr/nltk_data'\n    - '/usr/share/nltk_data'\n    - '/usr/lib/nltk_data'\n    - '/usr/share/nltk_data'\n    - '/usr/local/share/nltk_data'\n    - '/usr/lib/nltk_data'\n    - '/usr/local/lib/nltk_data'\n**********************************************************************\n",
          "traceback": [
            "\u001b[0;31m---------------------------------------------------------------------------\u001b[0m",
            "\u001b[0;31mLookupError\u001b[0m                               Traceback (most recent call last)",
            "\u001b[0;32m/usr/local/lib/python3.10/dist-packages/nltk/corpus/util.py\u001b[0m in \u001b[0;36m__load\u001b[0;34m(self)\u001b[0m\n\u001b[1;32m     83\u001b[0m                 \u001b[0;32mtry\u001b[0m\u001b[0;34m:\u001b[0m\u001b[0;34m\u001b[0m\u001b[0;34m\u001b[0m\u001b[0m\n\u001b[0;32m---> 84\u001b[0;31m                     \u001b[0mroot\u001b[0m \u001b[0;34m=\u001b[0m \u001b[0mnltk\u001b[0m\u001b[0;34m.\u001b[0m\u001b[0mdata\u001b[0m\u001b[0;34m.\u001b[0m\u001b[0mfind\u001b[0m\u001b[0;34m(\u001b[0m\u001b[0;34mf\"{self.subdir}/{zip_name}\"\u001b[0m\u001b[0;34m)\u001b[0m\u001b[0;34m\u001b[0m\u001b[0;34m\u001b[0m\u001b[0m\n\u001b[0m\u001b[1;32m     85\u001b[0m                 \u001b[0;32mexcept\u001b[0m \u001b[0mLookupError\u001b[0m\u001b[0;34m:\u001b[0m\u001b[0;34m\u001b[0m\u001b[0;34m\u001b[0m\u001b[0m\n",
            "\u001b[0;32m/usr/local/lib/python3.10/dist-packages/nltk/data.py\u001b[0m in \u001b[0;36mfind\u001b[0;34m(resource_name, paths)\u001b[0m\n\u001b[1;32m    582\u001b[0m     \u001b[0mresource_not_found\u001b[0m \u001b[0;34m=\u001b[0m \u001b[0;34mf\"\\n{sep}\\n{msg}\\n{sep}\\n\"\u001b[0m\u001b[0;34m\u001b[0m\u001b[0;34m\u001b[0m\u001b[0m\n\u001b[0;32m--> 583\u001b[0;31m     \u001b[0;32mraise\u001b[0m \u001b[0mLookupError\u001b[0m\u001b[0;34m(\u001b[0m\u001b[0mresource_not_found\u001b[0m\u001b[0;34m)\u001b[0m\u001b[0;34m\u001b[0m\u001b[0;34m\u001b[0m\u001b[0m\n\u001b[0m\u001b[1;32m    584\u001b[0m \u001b[0;34m\u001b[0m\u001b[0m\n",
            "\u001b[0;31mLookupError\u001b[0m: \n**********************************************************************\n  Resource \u001b[93mstopwords\u001b[0m not found.\n  Please use the NLTK Downloader to obtain the resource:\n\n  \u001b[31m>>> import nltk\n  >>> nltk.download('stopwords')\n  \u001b[0m\n  For more information see: https://www.nltk.org/data.html\n\n  Attempted to load \u001b[93mcorpora/stopwords.zip/stopwords/\u001b[0m\n\n  Searched in:\n    - '/root/nltk_data'\n    - '/usr/nltk_data'\n    - '/usr/share/nltk_data'\n    - '/usr/lib/nltk_data'\n    - '/usr/share/nltk_data'\n    - '/usr/local/share/nltk_data'\n    - '/usr/lib/nltk_data'\n    - '/usr/local/lib/nltk_data'\n**********************************************************************\n",
            "\nDuring handling of the above exception, another exception occurred:\n",
            "\u001b[0;31mLookupError\u001b[0m                               Traceback (most recent call last)",
            "\u001b[0;32m<ipython-input-71-50b1479482e6>\u001b[0m in \u001b[0;36m<cell line: 65>\u001b[0;34m()\u001b[0m\n\u001b[1;32m     64\u001b[0m \u001b[0;34m\u001b[0m\u001b[0m\n\u001b[1;32m     65\u001b[0m \u001b[0;32mif\u001b[0m \u001b[0m__name__\u001b[0m \u001b[0;34m==\u001b[0m \u001b[0;34m\"__main__\"\u001b[0m\u001b[0;34m:\u001b[0m\u001b[0;34m\u001b[0m\u001b[0;34m\u001b[0m\u001b[0m\n\u001b[0;32m---> 66\u001b[0;31m     \u001b[0mmain\u001b[0m\u001b[0;34m(\u001b[0m\u001b[0;34m)\u001b[0m\u001b[0;34m\u001b[0m\u001b[0;34m\u001b[0m\u001b[0m\n\u001b[0m",
            "\u001b[0;32m<ipython-input-71-50b1479482e6>\u001b[0m in \u001b[0;36mmain\u001b[0;34m()\u001b[0m\n\u001b[1;32m     60\u001b[0m             \u001b[0;32mbreak\u001b[0m\u001b[0;34m\u001b[0m\u001b[0;34m\u001b[0m\u001b[0m\n\u001b[1;32m     61\u001b[0m \u001b[0;34m\u001b[0m\u001b[0m\n\u001b[0;32m---> 62\u001b[0;31m         \u001b[0mresposta\u001b[0m \u001b[0;34m=\u001b[0m \u001b[0mbuscar_resposta\u001b[0m\u001b[0;34m(\u001b[0m\u001b[0mpergunta\u001b[0m\u001b[0;34m,\u001b[0m \u001b[0mlista_pdfs\u001b[0m\u001b[0;34m)\u001b[0m\u001b[0;34m\u001b[0m\u001b[0;34m\u001b[0m\u001b[0m\n\u001b[0m\u001b[1;32m     63\u001b[0m         \u001b[0mprint\u001b[0m\u001b[0;34m(\u001b[0m\u001b[0mresposta\u001b[0m\u001b[0;34m)\u001b[0m\u001b[0;34m\u001b[0m\u001b[0;34m\u001b[0m\u001b[0m\n\u001b[1;32m     64\u001b[0m \u001b[0;34m\u001b[0m\u001b[0m\n",
            "\u001b[0;32m<ipython-input-71-50b1479482e6>\u001b[0m in \u001b[0;36mbuscar_resposta\u001b[0;34m(pergunta, lista_pdfs)\u001b[0m\n\u001b[1;32m     28\u001b[0m     \u001b[0mBusca\u001b[0m \u001b[0ma\u001b[0m \u001b[0mresposta\u001b[0m \u001b[0mpara\u001b[0m \u001b[0ma\u001b[0m \u001b[0mpergunta\u001b[0m \u001b[0mnos\u001b[0m \u001b[0mPDFs\u001b[0m \u001b[0mfornecidos\u001b[0m\u001b[0;34m.\u001b[0m\u001b[0;34m\u001b[0m\u001b[0;34m\u001b[0m\u001b[0m\n\u001b[1;32m     29\u001b[0m     \"\"\"\n\u001b[0;32m---> 30\u001b[0;31m     \u001b[0mpergunta_processada\u001b[0m \u001b[0;34m=\u001b[0m \u001b[0mprocessar_texto\u001b[0m\u001b[0;34m(\u001b[0m\u001b[0mpergunta\u001b[0m\u001b[0;34m)\u001b[0m\u001b[0;34m\u001b[0m\u001b[0;34m\u001b[0m\u001b[0m\n\u001b[0m\u001b[1;32m     31\u001b[0m \u001b[0;34m\u001b[0m\u001b[0m\n\u001b[1;32m     32\u001b[0m     \u001b[0;32mfor\u001b[0m \u001b[0mnome_arquivo\u001b[0m \u001b[0;32min\u001b[0m \u001b[0mlista_pdfs\u001b[0m\u001b[0;34m:\u001b[0m\u001b[0;34m\u001b[0m\u001b[0;34m\u001b[0m\u001b[0m\n",
            "\u001b[0;32m<ipython-input-71-50b1479482e6>\u001b[0m in \u001b[0;36mprocessar_texto\u001b[0;34m(texto)\u001b[0m\n\u001b[1;32m     10\u001b[0m     \u001b[0mProcessa\u001b[0m \u001b[0mo\u001b[0m \u001b[0mtexto\u001b[0m \u001b[0mextraído\u001b[0m \u001b[0mdo\u001b[0m \u001b[0mPDF\u001b[0m\u001b[0;34m:\u001b[0m \u001b[0mtokenização\u001b[0m\u001b[0;34m,\u001b[0m \u001b[0mremoção\u001b[0m \u001b[0mde\u001b[0m \u001b[0mstopwords\u001b[0m \u001b[0me\u001b[0m \u001b[0mstemming\u001b[0m\u001b[0;34m.\u001b[0m\u001b[0;34m\u001b[0m\u001b[0;34m\u001b[0m\u001b[0m\n\u001b[1;32m     11\u001b[0m     \"\"\"\n\u001b[0;32m---> 12\u001b[0;31m     \u001b[0mpalavras_irrelevantes\u001b[0m \u001b[0;34m=\u001b[0m \u001b[0mset\u001b[0m\u001b[0;34m(\u001b[0m\u001b[0mstopwords\u001b[0m\u001b[0;34m.\u001b[0m\u001b[0mwords\u001b[0m\u001b[0;34m(\u001b[0m\u001b[0;34m\"portuguese\"\u001b[0m\u001b[0;34m)\u001b[0m\u001b[0;34m)\u001b[0m\u001b[0;34m\u001b[0m\u001b[0;34m\u001b[0m\u001b[0m\n\u001b[0m\u001b[1;32m     13\u001b[0m     \u001b[0mstemmer\u001b[0m \u001b[0;34m=\u001b[0m \u001b[0mPorterStemmer\u001b[0m\u001b[0;34m(\u001b[0m\u001b[0;34m)\u001b[0m\u001b[0;34m\u001b[0m\u001b[0;34m\u001b[0m\u001b[0m\n\u001b[1;32m     14\u001b[0m \u001b[0;34m\u001b[0m\u001b[0m\n",
            "\u001b[0;32m/usr/local/lib/python3.10/dist-packages/nltk/corpus/util.py\u001b[0m in \u001b[0;36m__getattr__\u001b[0;34m(self, attr)\u001b[0m\n\u001b[1;32m    119\u001b[0m             \u001b[0;32mraise\u001b[0m \u001b[0mAttributeError\u001b[0m\u001b[0;34m(\u001b[0m\u001b[0;34m\"LazyCorpusLoader object has no attribute '__bases__'\"\u001b[0m\u001b[0;34m)\u001b[0m\u001b[0;34m\u001b[0m\u001b[0;34m\u001b[0m\u001b[0m\n\u001b[1;32m    120\u001b[0m \u001b[0;34m\u001b[0m\u001b[0m\n\u001b[0;32m--> 121\u001b[0;31m         \u001b[0mself\u001b[0m\u001b[0;34m.\u001b[0m\u001b[0m__load\u001b[0m\u001b[0;34m(\u001b[0m\u001b[0;34m)\u001b[0m\u001b[0;34m\u001b[0m\u001b[0;34m\u001b[0m\u001b[0m\n\u001b[0m\u001b[1;32m    122\u001b[0m         \u001b[0;31m# This looks circular, but its not, since __load() changes our\u001b[0m\u001b[0;34m\u001b[0m\u001b[0;34m\u001b[0m\u001b[0m\n\u001b[1;32m    123\u001b[0m         \u001b[0;31m# __class__ to something new:\u001b[0m\u001b[0;34m\u001b[0m\u001b[0;34m\u001b[0m\u001b[0m\n",
            "\u001b[0;32m/usr/local/lib/python3.10/dist-packages/nltk/corpus/util.py\u001b[0m in \u001b[0;36m__load\u001b[0;34m(self)\u001b[0m\n\u001b[1;32m     84\u001b[0m                     \u001b[0mroot\u001b[0m \u001b[0;34m=\u001b[0m \u001b[0mnltk\u001b[0m\u001b[0;34m.\u001b[0m\u001b[0mdata\u001b[0m\u001b[0;34m.\u001b[0m\u001b[0mfind\u001b[0m\u001b[0;34m(\u001b[0m\u001b[0;34mf\"{self.subdir}/{zip_name}\"\u001b[0m\u001b[0;34m)\u001b[0m\u001b[0;34m\u001b[0m\u001b[0;34m\u001b[0m\u001b[0m\n\u001b[1;32m     85\u001b[0m                 \u001b[0;32mexcept\u001b[0m \u001b[0mLookupError\u001b[0m\u001b[0;34m:\u001b[0m\u001b[0;34m\u001b[0m\u001b[0;34m\u001b[0m\u001b[0m\n\u001b[0;32m---> 86\u001b[0;31m                     \u001b[0;32mraise\u001b[0m \u001b[0me\u001b[0m\u001b[0;34m\u001b[0m\u001b[0;34m\u001b[0m\u001b[0m\n\u001b[0m\u001b[1;32m     87\u001b[0m \u001b[0;34m\u001b[0m\u001b[0m\n\u001b[1;32m     88\u001b[0m         \u001b[0;31m# Load the corpus.\u001b[0m\u001b[0;34m\u001b[0m\u001b[0;34m\u001b[0m\u001b[0m\n",
            "\u001b[0;32m/usr/local/lib/python3.10/dist-packages/nltk/corpus/util.py\u001b[0m in \u001b[0;36m__load\u001b[0;34m(self)\u001b[0m\n\u001b[1;32m     79\u001b[0m         \u001b[0;32melse\u001b[0m\u001b[0;34m:\u001b[0m\u001b[0;34m\u001b[0m\u001b[0;34m\u001b[0m\u001b[0m\n\u001b[1;32m     80\u001b[0m             \u001b[0;32mtry\u001b[0m\u001b[0;34m:\u001b[0m\u001b[0;34m\u001b[0m\u001b[0;34m\u001b[0m\u001b[0m\n\u001b[0;32m---> 81\u001b[0;31m                 \u001b[0mroot\u001b[0m \u001b[0;34m=\u001b[0m \u001b[0mnltk\u001b[0m\u001b[0;34m.\u001b[0m\u001b[0mdata\u001b[0m\u001b[0;34m.\u001b[0m\u001b[0mfind\u001b[0m\u001b[0;34m(\u001b[0m\u001b[0;34mf\"{self.subdir}/{self.__name}\"\u001b[0m\u001b[0;34m)\u001b[0m\u001b[0;34m\u001b[0m\u001b[0;34m\u001b[0m\u001b[0m\n\u001b[0m\u001b[1;32m     82\u001b[0m             \u001b[0;32mexcept\u001b[0m \u001b[0mLookupError\u001b[0m \u001b[0;32mas\u001b[0m \u001b[0me\u001b[0m\u001b[0;34m:\u001b[0m\u001b[0;34m\u001b[0m\u001b[0;34m\u001b[0m\u001b[0m\n\u001b[1;32m     83\u001b[0m                 \u001b[0;32mtry\u001b[0m\u001b[0;34m:\u001b[0m\u001b[0;34m\u001b[0m\u001b[0;34m\u001b[0m\u001b[0m\n",
            "\u001b[0;32m/usr/local/lib/python3.10/dist-packages/nltk/data.py\u001b[0m in \u001b[0;36mfind\u001b[0;34m(resource_name, paths)\u001b[0m\n\u001b[1;32m    581\u001b[0m     \u001b[0msep\u001b[0m \u001b[0;34m=\u001b[0m \u001b[0;34m\"*\"\u001b[0m \u001b[0;34m*\u001b[0m \u001b[0;36m70\u001b[0m\u001b[0;34m\u001b[0m\u001b[0;34m\u001b[0m\u001b[0m\n\u001b[1;32m    582\u001b[0m     \u001b[0mresource_not_found\u001b[0m \u001b[0;34m=\u001b[0m \u001b[0;34mf\"\\n{sep}\\n{msg}\\n{sep}\\n\"\u001b[0m\u001b[0;34m\u001b[0m\u001b[0;34m\u001b[0m\u001b[0m\n\u001b[0;32m--> 583\u001b[0;31m     \u001b[0;32mraise\u001b[0m \u001b[0mLookupError\u001b[0m\u001b[0;34m(\u001b[0m\u001b[0mresource_not_found\u001b[0m\u001b[0;34m)\u001b[0m\u001b[0;34m\u001b[0m\u001b[0;34m\u001b[0m\u001b[0m\n\u001b[0m\u001b[1;32m    584\u001b[0m \u001b[0;34m\u001b[0m\u001b[0m\n\u001b[1;32m    585\u001b[0m \u001b[0;34m\u001b[0m\u001b[0m\n",
            "\u001b[0;31mLookupError\u001b[0m: \n**********************************************************************\n  Resource \u001b[93mstopwords\u001b[0m not found.\n  Please use the NLTK Downloader to obtain the resource:\n\n  \u001b[31m>>> import nltk\n  >>> nltk.download('stopwords')\n  \u001b[0m\n  For more information see: https://www.nltk.org/data.html\n\n  Attempted to load \u001b[93mcorpora/stopwords\u001b[0m\n\n  Searched in:\n    - '/root/nltk_data'\n    - '/usr/nltk_data'\n    - '/usr/share/nltk_data'\n    - '/usr/lib/nltk_data'\n    - '/usr/share/nltk_data'\n    - '/usr/local/share/nltk_data'\n    - '/usr/lib/nltk_data'\n    - '/usr/local/lib/nltk_data'\n**********************************************************************\n"
          ]
        }
      ]
    }
  ]
}